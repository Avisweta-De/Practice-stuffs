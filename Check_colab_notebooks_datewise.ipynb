{
  "nbformat": 4,
  "nbformat_minor": 0,
  "metadata": {
    "colab": {
      "provenance": [],
      "authorship_tag": "ABX9TyMMox32vD3OIu2gh9wAtcNf",
      "include_colab_link": true
    },
    "kernelspec": {
      "name": "python3",
      "display_name": "Python 3"
    },
    "language_info": {
      "name": "python"
    }
  },
  "cells": [
    {
      "cell_type": "markdown",
      "metadata": {
        "id": "view-in-github",
        "colab_type": "text"
      },
      "source": [
        "<a href=\"https://colab.research.google.com/github/Avisweta-De/Practice-stuffs/blob/main/Check_colab_notebooks_datewise.ipynb\" target=\"_parent\"><img src=\"https://colab.research.google.com/assets/colab-badge.svg\" alt=\"Open In Colab\"/></a>"
      ]
    },
    {
      "cell_type": "code",
      "source": [
        "from google.colab import drive\n",
        "drive.mount('/content/drive')\n"
      ],
      "metadata": {
        "colab": {
          "base_uri": "https://localhost:8080/"
        },
        "id": "F9PibaDwezDP",
        "outputId": "f03d7c15-d6eb-4cd4-b887-4773148d86a1"
      },
      "execution_count": 4,
      "outputs": [
        {
          "output_type": "stream",
          "name": "stdout",
          "text": [
            "Mounted at /content/drive\n"
          ]
        }
      ]
    },
    {
      "cell_type": "code",
      "execution_count": 5,
      "metadata": {
        "colab": {
          "base_uri": "https://localhost:8080/"
        },
        "id": "0M_D2PjddNZB",
        "outputId": "32180d7c-4026-4be7-a0b5-6e3c750da4d3"
      },
      "outputs": [
        {
          "output_type": "stream",
          "name": "stdout",
          "text": [
            "Untitled0.ipynb\n",
            "Untitled\n",
            "Untitled1.ipynb\n",
            "placement.csv\n",
            "Ml project 1 colab.ipynb\n",
            "API to CSV conversion (learning).ipynb\n",
            "Dynamic Pricing for Urban Parking Lots.ipynb\n",
            "Pandas Profiling.ipynb\n",
            "Pandas profiling report.ipynb\n",
            "Untitled2.ipynb\n"
          ]
        }
      ],
      "source": [
        "import os\n",
        "\n",
        "path = \"/content/drive/My Drive/Colab Notebooks\"\n",
        "files = os.listdir(path)\n",
        "for file in files:\n",
        "    print(file)"
      ]
    },
    {
      "cell_type": "code",
      "source": [
        "import os\n",
        "from datetime import datetime\n",
        "\n",
        "path = \"/content/drive/My Drive/Colab Notebooks\"\n",
        "files = os.listdir(path)\n",
        "\n",
        "for file in files:\n",
        "    if file.endswith(\".ipynb\"):\n",
        "        t = os.path.getmtime(os.path.join(path, file))\n",
        "        date = datetime.fromtimestamp(t).strftime('%d-%m-%Y %H:%M')\n",
        "        print(f\"{date}  →  {file}\")\n"
      ],
      "metadata": {
        "colab": {
          "base_uri": "https://localhost:8080/"
        },
        "id": "atZuv1xEfNNf",
        "outputId": "25478adf-15e3-4526-ed69-3fb273c6e3b9"
      },
      "execution_count": 6,
      "outputs": [
        {
          "output_type": "stream",
          "name": "stdout",
          "text": [
            "16-04-2022 14:07  →  Untitled0.ipynb\n",
            "23-04-2022 17:49  →  Untitled1.ipynb\n",
            "06-07-2025 09:36  →  Ml project 1 colab.ipynb\n",
            "06-07-2025 16:11  →  API to CSV conversion (learning).ipynb\n",
            "06-07-2025 18:43  →  Dynamic Pricing for Urban Parking Lots.ipynb\n",
            "07-07-2025 09:50  →  Pandas Profiling.ipynb\n",
            "07-07-2025 10:35  →  Pandas profiling report.ipynb\n",
            "07-07-2025 10:43  →  Untitled2.ipynb\n"
          ]
        }
      ]
    }
  ]
}