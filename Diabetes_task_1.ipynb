{
  "nbformat": 4,
  "nbformat_minor": 0,
  "metadata": {
    "colab": {
      "provenance": [],
      "authorship_tag": "ABX9TyNdO+PgHfof8nD5TLsl4YTI",
      "include_colab_link": true
    },
    "kernelspec": {
      "name": "python3",
      "display_name": "Python 3"
    },
    "language_info": {
      "name": "python"
    }
  },
  "cells": [
    {
      "cell_type": "markdown",
      "metadata": {
        "id": "view-in-github",
        "colab_type": "text"
      },
      "source": [
        "<a href=\"https://colab.research.google.com/github/Avisweta-De/Practice-stuffs/blob/main/Diabetes_task_1.ipynb\" target=\"_parent\"><img src=\"https://colab.research.google.com/assets/colab-badge.svg\" alt=\"Open In Colab\"/></a>"
      ]
    },
    {
      "cell_type": "code",
      "execution_count": null,
      "metadata": {
        "id": "xzpyhqZb0LmZ"
      },
      "outputs": [],
      "source": [
        "# Importing Required Libraries\n",
        "import numpy as np\n",
        "import pandas as pd\n",
        "from sklearn.model_selection import train_test_split\n",
        "from sklearn.preprocessing import MinMaxScaler\n",
        "from sklearn.ensemble import RandomForestClassifier\n",
        "from sklearn.metrics import accuracy_score\n"
      ]
    },
    {
      "cell_type": "code",
      "source": [
        "# Step 1: Load the dataset\n",
        "data = pd.read_csv('/content/diabetes.csv')  # Update path as needed\n",
        "print(\"First few rows of the dataset:\")\n",
        "print(data.head())"
      ],
      "metadata": {
        "id": "4_S-ME9x0a3r"
      },
      "execution_count": null,
      "outputs": []
    },
    {
      "cell_type": "code",
      "source": [
        "# Step 2: Basic Information\n",
        "print(\"\\nShape of dataset:\", data.shape)\n",
        "print(\"\\nStatistical summary:\")\n",
        "print(data.describe())"
      ],
      "metadata": {
        "id": "NI9AbPFZ0ebf"
      },
      "execution_count": null,
      "outputs": []
    },
    {
      "cell_type": "code",
      "source": [
        "# Step 3: Class-wise Mean Values\n",
        "print(\"\\nAverage feature values grouped by Outcome:\")\n",
        "print(data.groupby('Outcome').mean())\n",
        "\n",
        "# Step 4: Separate features and target\n",
        "features = data.drop(columns='Outcome')\n",
        "target = data['Outcome']\n"
      ],
      "metadata": {
        "id": "Pl2DyME70fMu"
      },
      "execution_count": null,
      "outputs": []
    },
    {
      "cell_type": "code",
      "source": [
        "# Step 5: Feature Scaling using MinMaxScaler\n",
        "scaler = MinMaxScaler()\n",
        "features_scaled = scaler.fit_transform(features)"
      ],
      "metadata": {
        "id": "x2J6TgGy0fX7"
      },
      "execution_count": null,
      "outputs": []
    },
    {
      "cell_type": "code",
      "source": [
        "# Step 6: Split data into train and test sets\n",
        "X_train, X_test, y_train, y_test = train_test_split(\n",
        "    features_scaled, target, test_size=0.25, stratify=target, random_state=42)\n"
      ],
      "metadata": {
        "id": "C2Vf5EOP0fgh"
      },
      "execution_count": null,
      "outputs": []
    },
    {
      "cell_type": "code",
      "source": [
        "# Step 7: Train a Random Forest model\n",
        "model = RandomForestClassifier(n_estimators=100, random_state=42)\n",
        "model.fit(X_train, y_train)"
      ],
      "metadata": {
        "id": "IeDyjDXh0fsi"
      },
      "execution_count": null,
      "outputs": []
    },
    {
      "cell_type": "code",
      "source": [
        "# Step 8: Evaluate model performance\n",
        "train_pred = model.predict(X_train)\n",
        "test_pred = model.predict(X_test)\n",
        "train_acc = accuracy_score(y_train, train_pred)\n",
        "test_acc = accuracy_score(y_test, test_pred)\n",
        "print(f\"\\nTraining Accuracy: {train_acc:.2f}\")\n",
        "print(f\"Testing Accuracy: {test_acc:.2f}\")\n"
      ],
      "metadata": {
        "id": "Y9ZwwL9c0f2q"
      },
      "execution_count": null,
      "outputs": []
    },
    {
      "cell_type": "code",
      "source": [
        "# Step 9: Make a prediction system\n",
        "def predict_diabetes(input_tuple):\n",
        "    input_array = np.asarray(input_tuple).reshape(1, -1)\n",
        "    input_scaled = scaler.transform(input_array)\n",
        "    result = model.predict(input_scaled)\n",
        "    return \"Diabetic\" if result[0] == 1 else \"Not Diabetic\"\n",
        "\n",
        "# Example prediction\n",
        "sample = (5,166,72,19,175,25.8,0.587,51)\n",
        "print(\"\\nPrediction for input sample:\", predict_diabetes(sample))\n"
      ],
      "metadata": {
        "id": "8-vNiDM10x2-"
      },
      "execution_count": null,
      "outputs": []
    }
  ]
}